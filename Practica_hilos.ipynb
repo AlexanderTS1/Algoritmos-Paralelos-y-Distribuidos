{
  "nbformat": 4,
  "nbformat_minor": 0,
  "metadata": {
    "colab": {
      "name": "Practica_hilos.ipynb",
      "provenance": [],
      "authorship_tag": "ABX9TyNprCB6qQlP6u+kdwzX06Di",
      "include_colab_link": true
    },
    "kernelspec": {
      "name": "python3",
      "display_name": "Python 3"
    }
  },
  "cells": [
    {
      "cell_type": "markdown",
      "metadata": {
        "id": "view-in-github",
        "colab_type": "text"
      },
      "source": [
        "<a href=\"https://colab.research.google.com/github/AlexanderTS1/Algoritmos-Paralelos-y-Distribuidos/blob/main/Practica_hilos.ipynb\" target=\"_parent\"><img src=\"https://colab.research.google.com/assets/colab-badge.svg\" alt=\"Open In Colab\"/></a>"
      ]
    },
    {
      "cell_type": "markdown",
      "metadata": {
        "id": "fnP1AUXc56WJ"
      },
      "source": [
        "ALGORITMOS PARALELOS Y DISTRIBUIDOS"
      ]
    },
    {
      "cell_type": "code",
      "metadata": {
        "id": "t7sqeqN15y-i"
      },
      "source": [
        " "
      ],
      "execution_count": null,
      "outputs": []
    }
  ]
}